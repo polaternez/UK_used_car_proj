{
 "cells": [
  {
   "cell_type": "markdown",
   "id": "b0d5f036",
   "metadata": {},
   "source": [
    "# Setup"
   ]
  },
  {
   "cell_type": "code",
   "execution_count": 1,
   "id": "fe6d88d4",
   "metadata": {},
   "outputs": [],
   "source": [
    "import numpy as np\n",
    "import pandas as pd\n",
    "import matplotlib.pyplot as plt\n",
    "import seaborn as sns\n",
    "sns.set(style='darkgrid', font_scale=1.3)\n",
    "\n",
    "from sklearn.model_selection import cross_val_score, GridSearchCV\n",
    "from sklearn import metrics\n",
    "\n",
    "%matplotlib inline"
   ]
  },
  {
   "cell_type": "markdown",
   "id": "b2604275",
   "metadata": {},
   "source": [
    "# Data preprocessing"
   ]
  },
  {
   "cell_type": "code",
   "execution_count": 2,
   "id": "0c3e9da1",
   "metadata": {},
   "outputs": [
    {
     "data": {
      "text/html": [
       "<div>\n",
       "<style scoped>\n",
       "    .dataframe tbody tr th:only-of-type {\n",
       "        vertical-align: middle;\n",
       "    }\n",
       "\n",
       "    .dataframe tbody tr th {\n",
       "        vertical-align: top;\n",
       "    }\n",
       "\n",
       "    .dataframe thead th {\n",
       "        text-align: right;\n",
       "    }\n",
       "</style>\n",
       "<table border=\"1\" class=\"dataframe\">\n",
       "  <thead>\n",
       "    <tr style=\"text-align: right;\">\n",
       "      <th></th>\n",
       "      <th>price</th>\n",
       "      <th>mileage</th>\n",
       "      <th>mpg</th>\n",
       "      <th>engineSize</th>\n",
       "      <th>age</th>\n",
       "      <th>brand_rank</th>\n",
       "      <th>transmission_Manual</th>\n",
       "    </tr>\n",
       "  </thead>\n",
       "  <tbody>\n",
       "    <tr>\n",
       "      <th>0</th>\n",
       "      <td>12500</td>\n",
       "      <td>4.196867</td>\n",
       "      <td>55.4</td>\n",
       "      <td>1.4</td>\n",
       "      <td>4</td>\n",
       "      <td>1</td>\n",
       "      <td>1</td>\n",
       "    </tr>\n",
       "    <tr>\n",
       "      <th>1</th>\n",
       "      <td>16500</td>\n",
       "      <td>4.558745</td>\n",
       "      <td>64.2</td>\n",
       "      <td>2.0</td>\n",
       "      <td>5</td>\n",
       "      <td>1</td>\n",
       "      <td>0</td>\n",
       "    </tr>\n",
       "    <tr>\n",
       "      <th>2</th>\n",
       "      <td>11000</td>\n",
       "      <td>4.476339</td>\n",
       "      <td>55.4</td>\n",
       "      <td>1.4</td>\n",
       "      <td>5</td>\n",
       "      <td>1</td>\n",
       "      <td>1</td>\n",
       "    </tr>\n",
       "    <tr>\n",
       "      <th>3</th>\n",
       "      <td>16800</td>\n",
       "      <td>4.414171</td>\n",
       "      <td>67.3</td>\n",
       "      <td>2.0</td>\n",
       "      <td>4</td>\n",
       "      <td>1</td>\n",
       "      <td>0</td>\n",
       "    </tr>\n",
       "    <tr>\n",
       "      <th>4</th>\n",
       "      <td>17300</td>\n",
       "      <td>3.300595</td>\n",
       "      <td>49.6</td>\n",
       "      <td>1.0</td>\n",
       "      <td>2</td>\n",
       "      <td>1</td>\n",
       "      <td>1</td>\n",
       "    </tr>\n",
       "    <tr>\n",
       "      <th>...</th>\n",
       "      <td>...</td>\n",
       "      <td>...</td>\n",
       "      <td>...</td>\n",
       "      <td>...</td>\n",
       "      <td>...</td>\n",
       "      <td>...</td>\n",
       "      <td>...</td>\n",
       "    </tr>\n",
       "    <tr>\n",
       "      <th>98587</th>\n",
       "      <td>5990</td>\n",
       "      <td>4.869232</td>\n",
       "      <td>58.9</td>\n",
       "      <td>2.0</td>\n",
       "      <td>9</td>\n",
       "      <td>3</td>\n",
       "      <td>1</td>\n",
       "    </tr>\n",
       "    <tr>\n",
       "      <th>98588</th>\n",
       "      <td>1799</td>\n",
       "      <td>4.944986</td>\n",
       "      <td>46.3</td>\n",
       "      <td>1.2</td>\n",
       "      <td>13</td>\n",
       "      <td>3</td>\n",
       "      <td>1</td>\n",
       "    </tr>\n",
       "    <tr>\n",
       "      <th>98589</th>\n",
       "      <td>1590</td>\n",
       "      <td>4.845098</td>\n",
       "      <td>42.0</td>\n",
       "      <td>1.4</td>\n",
       "      <td>12</td>\n",
       "      <td>3</td>\n",
       "      <td>1</td>\n",
       "    </tr>\n",
       "    <tr>\n",
       "      <th>98590</th>\n",
       "      <td>1250</td>\n",
       "      <td>4.917527</td>\n",
       "      <td>46.3</td>\n",
       "      <td>1.2</td>\n",
       "      <td>15</td>\n",
       "      <td>3</td>\n",
       "      <td>1</td>\n",
       "    </tr>\n",
       "    <tr>\n",
       "      <th>98591</th>\n",
       "      <td>2295</td>\n",
       "      <td>4.869232</td>\n",
       "      <td>46.3</td>\n",
       "      <td>1.2</td>\n",
       "      <td>14</td>\n",
       "      <td>3</td>\n",
       "      <td>1</td>\n",
       "    </tr>\n",
       "  </tbody>\n",
       "</table>\n",
       "<p>98592 rows × 7 columns</p>\n",
       "</div>"
      ],
      "text/plain": [
       "       price   mileage   mpg  engineSize  age  brand_rank  transmission_Manual\n",
       "0      12500  4.196867  55.4         1.4    4           1                    1\n",
       "1      16500  4.558745  64.2         2.0    5           1                    0\n",
       "2      11000  4.476339  55.4         1.4    5           1                    1\n",
       "3      16800  4.414171  67.3         2.0    4           1                    0\n",
       "4      17300  3.300595  49.6         1.0    2           1                    1\n",
       "...      ...       ...   ...         ...  ...         ...                  ...\n",
       "98587   5990  4.869232  58.9         2.0    9           3                    1\n",
       "98588   1799  4.944986  46.3         1.2   13           3                    1\n",
       "98589   1590  4.845098  42.0         1.4   12           3                    1\n",
       "98590   1250  4.917527  46.3         1.2   15           3                    1\n",
       "98591   2295  4.869232  46.3         1.2   14           3                    1\n",
       "\n",
       "[98592 rows x 7 columns]"
      ]
     },
     "execution_count": 2,
     "metadata": {},
     "output_type": "execute_result"
    }
   ],
   "source": [
    "car_df = pd.read_csv(\"./eda_data.csv\")\n",
    "car_df = car_df.drop([\"model\", \"year\", \"transmission\", \"fuelType\", \"tax\", \"brand\"], axis=1)\n",
    "car_df"
   ]
  },
  {
   "cell_type": "markdown",
   "id": "5c32e10d",
   "metadata": {},
   "source": [
    "## train-test split "
   ]
  },
  {
   "cell_type": "code",
   "execution_count": 3,
   "id": "ed5667ef",
   "metadata": {},
   "outputs": [
    {
     "data": {
      "text/plain": [
       "Index(['price', 'mileage', 'mpg', 'engineSize', 'age', 'brand_rank',\n",
       "       'transmission_Manual'],\n",
       "      dtype='object')"
      ]
     },
     "execution_count": 3,
     "metadata": {},
     "output_type": "execute_result"
    }
   ],
   "source": [
    "car_df.columns"
   ]
  },
  {
   "cell_type": "code",
   "execution_count": 4,
   "id": "81e4582b",
   "metadata": {},
   "outputs": [],
   "source": [
    "y = car_df[\"price\"].values\n",
    "X = car_df.drop([\"price\"], axis=1).values"
   ]
  },
  {
   "cell_type": "code",
   "execution_count": 5,
   "id": "6c6d3b75",
   "metadata": {},
   "outputs": [
    {
     "name": "stdout",
     "output_type": "stream",
     "text": [
      "(78873, 6)\n",
      "(19719, 6)\n"
     ]
    }
   ],
   "source": [
    "from sklearn.model_selection import train_test_split\n",
    "\n",
    "X_train, X_test, y_train, y_test = train_test_split(X, y, test_size=0.2, random_state=42)\n",
    "\n",
    "print(X_train.shape)\n",
    "print(X_test.shape)"
   ]
  },
  {
   "cell_type": "markdown",
   "id": "4d4657f1",
   "metadata": {},
   "source": [
    "## scaling"
   ]
  },
  {
   "cell_type": "code",
   "execution_count": 6,
   "id": "34629f1e",
   "metadata": {},
   "outputs": [],
   "source": [
    "from sklearn.preprocessing import StandardScaler\n",
    "\n",
    "scaler = StandardScaler()\n",
    "\n",
    "X_train = scaler.fit_transform(X_train)\n",
    "X_test = scaler.transform(X_test)"
   ]
  },
  {
   "cell_type": "markdown",
   "id": "61378a3a",
   "metadata": {},
   "source": [
    "# Build model"
   ]
  },
  {
   "cell_type": "code",
   "execution_count": 7,
   "id": "94030a27",
   "metadata": {},
   "outputs": [
    {
     "name": "stderr",
     "output_type": "stream",
     "text": [
      "C:\\Users\\Polat\\anaconda3\\lib\\site-packages\\xgboost\\compat.py:36: FutureWarning: pandas.Int64Index is deprecated and will be removed from pandas in a future version. Use pandas.Index with the appropriate dtype instead.\n",
      "  from pandas import MultiIndex, Int64Index\n"
     ]
    }
   ],
   "source": [
    "import time \n",
    "\n",
    "import xgboost as xgb\n",
    "from sklearn.linear_model import LinearRegression, Ridge\n",
    "from sklearn.tree import DecisionTreeRegressor\n",
    "from sklearn.ensemble import RandomForestRegressor, ExtraTreesRegressor"
   ]
  },
  {
   "cell_type": "code",
   "execution_count": 8,
   "id": "872de44a",
   "metadata": {},
   "outputs": [],
   "source": [
    "xgb_reg = xgb.XGBRegressor(objective=\"reg:squarederror\", random_state=42)\n",
    "lin_reg = LinearRegression()\n",
    "ridge_reg = Ridge()\n",
    "dt_reg = DecisionTreeRegressor(random_state=42)\n",
    "rf_reg = RandomForestRegressor(random_state=42)\n",
    "\n",
    "regressors = zip(\n",
    "    [\"XGBRegressor\", \"LinearRegression\", \"Ridge\", \"DecisionTreeRegressor\", \"RandomForestRegressor\"],\n",
    "    [xgb_reg, lin_reg, ridge_reg, dt_reg, rf_reg]\n",
    ")"
   ]
  },
  {
   "cell_type": "code",
   "execution_count": 9,
   "id": "df1659a2",
   "metadata": {},
   "outputs": [
    {
     "name": "stdout",
     "output_type": "stream",
     "text": [
      "[XGBRegressor] mae: 1488.238 (+/- 15.495) - 24.314404 sec\n",
      "[LinearRegression] mae: 2977.451 (+/- 24.371) - 0.323208 sec\n",
      "[Ridge] mae: 2977.443 (+/- 24.371) - 0.072940 sec\n",
      "[DecisionTreeRegressor] mae: 1665.892 (+/- 18.728) - 1.394676 sec\n",
      "[RandomForestRegressor] mae: 1373.774 (+/- 9.385) - 86.800955 sec\n",
      "Elasped time : 112.906183 sec\n"
     ]
    }
   ],
   "source": [
    "end = 0\n",
    "\n",
    "for label, model in regressors:\n",
    "    start = time.time()\n",
    "    scores = cross_val_score(model, X_train, y_train, scoring=\"neg_mean_absolute_error\", cv=5)\n",
    "    scores *= -1\n",
    "    elapsed_time = time.time() - start\n",
    "    print(\"[%s] mae: %0.3f (+/- %0.3f) - %f sec\" % (label, scores.mean(), scores.std(), elapsed_time))\n",
    "    end += elapsed_time\n",
    "\n",
    "print(\"Elasped time : %f sec\" %  end)"
   ]
  },
  {
   "cell_type": "markdown",
   "id": "f8cfb57d-c7b4-4bf8-b945-674bc1129d8c",
   "metadata": {},
   "source": [
    "# Fine-Tune Model"
   ]
  },
  {
   "cell_type": "markdown",
   "id": "a1ce1f1a",
   "metadata": {},
   "source": [
    "## Grid Search"
   ]
  },
  {
   "cell_type": "code",
   "execution_count": 10,
   "id": "7c5d9f46",
   "metadata": {},
   "outputs": [
    {
     "data": {
      "text/plain": [
       "GridSearchCV(cv=5,\n",
       "             estimator=XGBRegressor(base_score=None, booster=None,\n",
       "                                    colsample_bylevel=None,\n",
       "                                    colsample_bynode=None,\n",
       "                                    colsample_bytree=None,\n",
       "                                    enable_categorical=False, gamma=None,\n",
       "                                    gpu_id=None, importance_type=None,\n",
       "                                    interaction_constraints=None,\n",
       "                                    learning_rate=None, max_delta_step=None,\n",
       "                                    max_depth=None, min_child_weight=None,\n",
       "                                    missing=nan, monotone_constraints=None,\n",
       "                                    n...=None,\n",
       "                                    num_parallel_tree=None, predictor=None,\n",
       "                                    random_state=42, reg_alpha=None,\n",
       "                                    reg_lambda=None, scale_pos_weight=None,\n",
       "                                    subsample=None, tree_method=None,\n",
       "                                    validate_parameters=None, verbosity=None),\n",
       "             n_jobs=-1,\n",
       "             param_grid={'colsample_bytree': [0.8], 'gamma': [0, 1, 2],\n",
       "                         'max_depth': [6, 9, 12], 'min_child_weight': [1, 2, 4],\n",
       "                         'subsample': [1.0]},\n",
       "             scoring='neg_mean_absolute_error')"
      ]
     },
     "execution_count": 10,
     "metadata": {},
     "output_type": "execute_result"
    }
   ],
   "source": [
    "parameters = {\n",
    "    \"max_depth\": [6, 9, 12],\n",
    "    \"min_child_weight\": [1, 2, 4],\n",
    "    \"gamma\": [0, 1, 2],\n",
    "    \"subsample\": [1.0], \n",
    "    \"colsample_bytree\": [0.8]\n",
    "}\n",
    "\n",
    "grid_search = GridSearchCV(estimator=xgb_reg, param_grid=parameters, scoring=\"neg_mean_absolute_error\", cv=5, n_jobs=-1)\n",
    "grid_search.fit(X_train, y_train)"
   ]
  },
  {
   "cell_type": "code",
   "execution_count": 11,
   "id": "def8e0ab",
   "metadata": {},
   "outputs": [
    {
     "name": "stdout",
     "output_type": "stream",
     "text": [
      "best_score -1334.6017838070202\n",
      "best_params {'colsample_bytree': 0.8, 'gamma': 0, 'max_depth': 12, 'min_child_weight': 2, 'subsample': 1.0}\n"
     ]
    }
   ],
   "source": [
    "best_score = grid_search.best_score_\n",
    "best_params = grid_search.best_params_\n",
    "\n",
    "print(\"best_score\", best_score)\n",
    "print(\"best_params\", best_params)"
   ]
  },
  {
   "cell_type": "code",
   "execution_count": 12,
   "id": "51c47805",
   "metadata": {},
   "outputs": [
    {
     "name": "stdout",
     "output_type": "stream",
     "text": [
      "                                                                                             params  mean_test_score  rank_test_score\n",
      "7   {'colsample_bytree': 0.8, 'gamma': 0, 'max_depth': 12, 'min_child_weight': 2, 'subsample': 1.0}     -1334.601784                1\n",
      "16  {'colsample_bytree': 0.8, 'gamma': 1, 'max_depth': 12, 'min_child_weight': 2, 'subsample': 1.0}     -1334.601784                2\n",
      "25  {'colsample_bytree': 0.8, 'gamma': 2, 'max_depth': 12, 'min_child_weight': 2, 'subsample': 1.0}     -1334.601784                2\n",
      "24  {'colsample_bytree': 0.8, 'gamma': 2, 'max_depth': 12, 'min_child_weight': 1, 'subsample': 1.0}     -1337.860138                4\n",
      "6   {'colsample_bytree': 0.8, 'gamma': 0, 'max_depth': 12, 'min_child_weight': 1, 'subsample': 1.0}     -1339.072266                5\n"
     ]
    }
   ],
   "source": [
    "df = pd.DataFrame(grid_search.cv_results_)\n",
    "print(df[[\"params\", \"mean_test_score\", \"rank_test_score\"]].sort_values(\"rank_test_score\").head().to_string())"
   ]
  },
  {
   "cell_type": "code",
   "execution_count": 13,
   "id": "de968aee",
   "metadata": {},
   "outputs": [
    {
     "name": "stdout",
     "output_type": "stream",
     "text": [
      "test mae: 1305.4492930235235\n"
     ]
    },
    {
     "data": {
      "text/plain": [
       "<matplotlib.collections.PathCollection at 0x1e10001d9a0>"
      ]
     },
     "execution_count": 13,
     "metadata": {},
     "output_type": "execute_result"
    },
    {
     "data": {
      "image/png": "[encoded data removed]",
      "text/plain": [
       "<Figure size 432x288 with 1 Axes>"
      ]
     },
     "metadata": {
      "needs_background": "light"
     },
     "output_type": "display_data"
    }
   ],
   "source": [
    "# final_model\n",
    "final_model = grid_search.best_estimator_\n",
    "y_pred = final_model.predict(X_test)\n",
    "\n",
    "print(\"test mae:\", metrics.mean_absolute_error(y_test, y_pred))\n",
    "\n",
    "plt.plot(y_test, y_test, \"r-\")\n",
    "plt.scatter(y_test, y_pred, alpha=0.2)"
   ]
  },
  {
   "cell_type": "markdown",
   "id": "e47dd38f",
   "metadata": {},
   "source": [
    "# Save Model "
   ]
  },
  {
   "cell_type": "code",
   "execution_count": 14,
   "id": "ef3fd44f",
   "metadata": {},
   "outputs": [],
   "source": [
    "import pickle\n",
    "\n",
    "filename = \"final_model.pkl\"\n",
    "pickle.dump(final_model, open(filename, \"wb\"))"
   ]
  },
  {
   "cell_type": "code",
   "execution_count": 15,
   "id": "740f40f3",
   "metadata": {},
   "outputs": [],
   "source": [
    "# load model\n",
    "# loaded_model = pickle.load(open(filename, \"rb\"))\n"
   ]
  },
  {
   "cell_type": "code",
   "execution_count": null,
   "id": "41a17106",
   "metadata": {},
   "outputs": [],
   "source": []
  }
 ],
 "metadata": {
  "kernelspec": {
   "display_name": "Python 3 (ipykernel)",
   "language": "python",
   "name": "python3"
  },
  "language_info": {
   "codemirror_mode": {
    "name": "ipython",
    "version": 3
   },
   "file_extension": ".py",
   "mimetype": "text/x-python",
   "name": "python",
   "nbconvert_exporter": "python",
   "pygments_lexer": "ipython3",
   "version": "3.9.12"
  },
  "toc-autonumbering": true,
  "toc-showmarkdowntxt": false
 },
 "nbformat": 4,
 "nbformat_minor": 5
}
