{
 "cells": [
  {
   "cell_type": "markdown",
   "id": "72875bba",
   "metadata": {},
   "source": [
    "# Setup"
   ]
  },
  {
   "cell_type": "code",
   "execution_count": 1,
   "id": "b270b723",
   "metadata": {},
   "outputs": [],
   "source": [
    "import numpy as np\n",
    "import pandas as pd\n",
    "import matplotlib.pyplot as plt\n",
    "import seaborn as sns\n",
    "sns.set(style='darkgrid', font_scale=1.3)\n",
    "\n",
    "%matplotlib inline"
   ]
  },
  {
   "cell_type": "markdown",
   "id": "b12053ce",
   "metadata": {},
   "source": [
    "# Load data\n",
    "## Content\n",
    "\n",
    "* brand \n",
    "* model \n",
    "* year - registration year\n",
    "* price - price in £\n",
    "* transmission - type of gearbox\n",
    "* mileage - distance used\n",
    "* fuelType - engine fuel\n",
    "* tax - road tax\n",
    "* mpg - miles per gallon\n",
    "* engineSize - size in litres\n"
   ]
  },
  {
   "cell_type": "code",
   "execution_count": 2,
   "id": "ffe14690",
   "metadata": {},
   "outputs": [
    {
     "data": {
      "text/html": [
       "<div>\n",
       "<style scoped>\n",
       "    .dataframe tbody tr th:only-of-type {\n",
       "        vertical-align: middle;\n",
       "    }\n",
       "\n",
       "    .dataframe tbody tr th {\n",
       "        vertical-align: top;\n",
       "    }\n",
       "\n",
       "    .dataframe thead th {\n",
       "        text-align: right;\n",
       "    }\n",
       "</style>\n",
       "<table border=\"1\" class=\"dataframe\">\n",
       "  <thead>\n",
       "    <tr style=\"text-align: right;\">\n",
       "      <th></th>\n",
       "      <th>model</th>\n",
       "      <th>year</th>\n",
       "      <th>price</th>\n",
       "      <th>transmission</th>\n",
       "      <th>mileage</th>\n",
       "      <th>fuelType</th>\n",
       "      <th>tax</th>\n",
       "      <th>mpg</th>\n",
       "      <th>engineSize</th>\n",
       "      <th>brand</th>\n",
       "    </tr>\n",
       "  </thead>\n",
       "  <tbody>\n",
       "    <tr>\n",
       "      <th>0</th>\n",
       "      <td>A1</td>\n",
       "      <td>2017</td>\n",
       "      <td>12500</td>\n",
       "      <td>Manual</td>\n",
       "      <td>15735</td>\n",
       "      <td>Petrol</td>\n",
       "      <td>150</td>\n",
       "      <td>55.4</td>\n",
       "      <td>1.4</td>\n",
       "      <td>Audi</td>\n",
       "    </tr>\n",
       "    <tr>\n",
       "      <th>1</th>\n",
       "      <td>A6</td>\n",
       "      <td>2016</td>\n",
       "      <td>16500</td>\n",
       "      <td>Automatic</td>\n",
       "      <td>36203</td>\n",
       "      <td>Diesel</td>\n",
       "      <td>20</td>\n",
       "      <td>64.2</td>\n",
       "      <td>2.0</td>\n",
       "      <td>Audi</td>\n",
       "    </tr>\n",
       "    <tr>\n",
       "      <th>2</th>\n",
       "      <td>A1</td>\n",
       "      <td>2016</td>\n",
       "      <td>11000</td>\n",
       "      <td>Manual</td>\n",
       "      <td>29946</td>\n",
       "      <td>Petrol</td>\n",
       "      <td>30</td>\n",
       "      <td>55.4</td>\n",
       "      <td>1.4</td>\n",
       "      <td>Audi</td>\n",
       "    </tr>\n",
       "    <tr>\n",
       "      <th>3</th>\n",
       "      <td>A4</td>\n",
       "      <td>2017</td>\n",
       "      <td>16800</td>\n",
       "      <td>Automatic</td>\n",
       "      <td>25952</td>\n",
       "      <td>Diesel</td>\n",
       "      <td>145</td>\n",
       "      <td>67.3</td>\n",
       "      <td>2.0</td>\n",
       "      <td>Audi</td>\n",
       "    </tr>\n",
       "    <tr>\n",
       "      <th>4</th>\n",
       "      <td>A3</td>\n",
       "      <td>2019</td>\n",
       "      <td>17300</td>\n",
       "      <td>Manual</td>\n",
       "      <td>1998</td>\n",
       "      <td>Petrol</td>\n",
       "      <td>145</td>\n",
       "      <td>49.6</td>\n",
       "      <td>1.0</td>\n",
       "      <td>Audi</td>\n",
       "    </tr>\n",
       "    <tr>\n",
       "      <th>...</th>\n",
       "      <td>...</td>\n",
       "      <td>...</td>\n",
       "      <td>...</td>\n",
       "      <td>...</td>\n",
       "      <td>...</td>\n",
       "      <td>...</td>\n",
       "      <td>...</td>\n",
       "      <td>...</td>\n",
       "      <td>...</td>\n",
       "      <td>...</td>\n",
       "    </tr>\n",
       "    <tr>\n",
       "      <th>99181</th>\n",
       "      <td>Eos</td>\n",
       "      <td>2012</td>\n",
       "      <td>5990</td>\n",
       "      <td>Manual</td>\n",
       "      <td>74000</td>\n",
       "      <td>Diesel</td>\n",
       "      <td>125</td>\n",
       "      <td>58.9</td>\n",
       "      <td>2.0</td>\n",
       "      <td>Volkswagen</td>\n",
       "    </tr>\n",
       "    <tr>\n",
       "      <th>99182</th>\n",
       "      <td>Fox</td>\n",
       "      <td>2008</td>\n",
       "      <td>1799</td>\n",
       "      <td>Manual</td>\n",
       "      <td>88102</td>\n",
       "      <td>Petrol</td>\n",
       "      <td>145</td>\n",
       "      <td>46.3</td>\n",
       "      <td>1.2</td>\n",
       "      <td>Volkswagen</td>\n",
       "    </tr>\n",
       "    <tr>\n",
       "      <th>99183</th>\n",
       "      <td>Fox</td>\n",
       "      <td>2009</td>\n",
       "      <td>1590</td>\n",
       "      <td>Manual</td>\n",
       "      <td>70000</td>\n",
       "      <td>Petrol</td>\n",
       "      <td>200</td>\n",
       "      <td>42.0</td>\n",
       "      <td>1.4</td>\n",
       "      <td>Volkswagen</td>\n",
       "    </tr>\n",
       "    <tr>\n",
       "      <th>99184</th>\n",
       "      <td>Fox</td>\n",
       "      <td>2006</td>\n",
       "      <td>1250</td>\n",
       "      <td>Manual</td>\n",
       "      <td>82704</td>\n",
       "      <td>Petrol</td>\n",
       "      <td>150</td>\n",
       "      <td>46.3</td>\n",
       "      <td>1.2</td>\n",
       "      <td>Volkswagen</td>\n",
       "    </tr>\n",
       "    <tr>\n",
       "      <th>99185</th>\n",
       "      <td>Fox</td>\n",
       "      <td>2007</td>\n",
       "      <td>2295</td>\n",
       "      <td>Manual</td>\n",
       "      <td>74000</td>\n",
       "      <td>Petrol</td>\n",
       "      <td>145</td>\n",
       "      <td>46.3</td>\n",
       "      <td>1.2</td>\n",
       "      <td>Volkswagen</td>\n",
       "    </tr>\n",
       "  </tbody>\n",
       "</table>\n",
       "<p>99186 rows × 10 columns</p>\n",
       "</div>"
      ],
      "text/plain": [
       "      model  year  price transmission  mileage fuelType  tax   mpg  \\\n",
       "0        A1  2017  12500       Manual    15735   Petrol  150  55.4   \n",
       "1        A6  2016  16500    Automatic    36203   Diesel   20  64.2   \n",
       "2        A1  2016  11000       Manual    29946   Petrol   30  55.4   \n",
       "3        A4  2017  16800    Automatic    25952   Diesel  145  67.3   \n",
       "4        A3  2019  17300       Manual     1998   Petrol  145  49.6   \n",
       "...     ...   ...    ...          ...      ...      ...  ...   ...   \n",
       "99181   Eos  2012   5990       Manual    74000   Diesel  125  58.9   \n",
       "99182   Fox  2008   1799       Manual    88102   Petrol  145  46.3   \n",
       "99183   Fox  2009   1590       Manual    70000   Petrol  200  42.0   \n",
       "99184   Fox  2006   1250       Manual    82704   Petrol  150  46.3   \n",
       "99185   Fox  2007   2295       Manual    74000   Petrol  145  46.3   \n",
       "\n",
       "       engineSize       brand  \n",
       "0             1.4        Audi  \n",
       "1             2.0        Audi  \n",
       "2             1.4        Audi  \n",
       "3             2.0        Audi  \n",
       "4             1.0        Audi  \n",
       "...           ...         ...  \n",
       "99181         2.0  Volkswagen  \n",
       "99182         1.2  Volkswagen  \n",
       "99183         1.4  Volkswagen  \n",
       "99184         1.2  Volkswagen  \n",
       "99185         1.2  Volkswagen  \n",
       "\n",
       "[99186 rows x 10 columns]"
      ]
     },
     "execution_count": 2,
     "metadata": {},
     "output_type": "execute_result"
    }
   ],
   "source": [
    "car_df = pd.read_csv(\"./uk_used_car.csv\")\n",
    "car_df"
   ]
  },
  {
   "cell_type": "code",
   "execution_count": 3,
   "id": "cf60acce",
   "metadata": {},
   "outputs": [
    {
     "name": "stdout",
     "output_type": "stream",
     "text": [
      "<class 'pandas.core.frame.DataFrame'>\n",
      "RangeIndex: 99186 entries, 0 to 99185\n",
      "Data columns (total 10 columns):\n",
      " #   Column        Non-Null Count  Dtype  \n",
      "---  ------        --------------  -----  \n",
      " 0   model         99186 non-null  object \n",
      " 1   year          99186 non-null  int64  \n",
      " 2   price         99186 non-null  int64  \n",
      " 3   transmission  99186 non-null  object \n",
      " 4   mileage       99186 non-null  int64  \n",
      " 5   fuelType      99186 non-null  object \n",
      " 6   tax           99186 non-null  int64  \n",
      " 7   mpg           99186 non-null  float64\n",
      " 8   engineSize    99186 non-null  float64\n",
      " 9   brand         99186 non-null  object \n",
      "dtypes: float64(2), int64(4), object(4)\n",
      "memory usage: 7.6+ MB\n"
     ]
    }
   ],
   "source": [
    "car_df.info()"
   ]
  },
  {
   "cell_type": "markdown",
   "id": "74d90ffa",
   "metadata": {},
   "source": [
    "# EDA"
   ]
  },
  {
   "cell_type": "code",
   "execution_count": 4,
   "id": "50c64c14",
   "metadata": {},
   "outputs": [
    {
     "name": "stdout",
     "output_type": "stream",
     "text": [
      "cat_cols ['model', 'transmission', 'fuelType', 'brand']\n",
      "num_cols Index(['year', 'price', 'mileage', 'tax', 'mpg', 'engineSize'], dtype='object')\n"
     ]
    }
   ],
   "source": [
    "cat_cols = [col for col in car_df.columns if car_df[col].dtype==\"object\"]\n",
    "num_cols = car_df.columns.drop(cat_cols)\n",
    "\n",
    "print(\"cat_cols\", cat_cols)\n",
    "print(\"num_cols\", num_cols)"
   ]
  },
  {
   "cell_type": "code",
   "execution_count": 5,
   "id": "c390762f",
   "metadata": {},
   "outputs": [
    {
     "name": "stderr",
     "output_type": "stream",
     "text": [
      "C:\\Users\\Polat\\anaconda3\\lib\\site-packages\\seaborn\\_decorators.py:36: FutureWarning: Pass the following variable as a keyword arg: x. From version 0.12, the only valid positional argument will be `data`, and passing other arguments without an explicit keyword will result in an error or misinterpretation.\n",
      "  warnings.warn(\n"
     ]
    },
    {
     "data": {
      "text/plain": [
       "<AxesSubplot:xlabel='price'>"
      ]
     },
     "execution_count": 5,
     "metadata": {},
     "output_type": "execute_result"
    },
    {
     "data": {
      "image/png": "[encoded data removed]",
      "text/plain": [
       "<Figure size 432x288 with 1 Axes>"
      ]
     },
     "metadata": {
      "needs_background": "light"
     },
     "output_type": "display_data"
    }
   ],
   "source": [
    "sns.boxplot(car_df[\"price\"])"
   ]
  },
  {
   "cell_type": "code",
   "execution_count": 6,
   "id": "e0250f1f",
   "metadata": {},
   "outputs": [
    {
     "data": {
      "text/html": [
       "<div>\n",
       "<style scoped>\n",
       "    .dataframe tbody tr th:only-of-type {\n",
       "        vertical-align: middle;\n",
       "    }\n",
       "\n",
       "    .dataframe tbody tr th {\n",
       "        vertical-align: top;\n",
       "    }\n",
       "\n",
       "    .dataframe thead th {\n",
       "        text-align: right;\n",
       "    }\n",
       "</style>\n",
       "<table border=\"1\" class=\"dataframe\">\n",
       "  <thead>\n",
       "    <tr style=\"text-align: right;\">\n",
       "      <th></th>\n",
       "      <th>count</th>\n",
       "      <th>mean</th>\n",
       "      <th>std</th>\n",
       "      <th>min</th>\n",
       "      <th>25%</th>\n",
       "      <th>50%</th>\n",
       "      <th>75%</th>\n",
       "      <th>max</th>\n",
       "    </tr>\n",
       "  </thead>\n",
       "  <tbody>\n",
       "    <tr>\n",
       "      <th>year</th>\n",
       "      <td>99186.0</td>\n",
       "      <td>2017.087291</td>\n",
       "      <td>2.119570</td>\n",
       "      <td>1970.0</td>\n",
       "      <td>2016.0</td>\n",
       "      <td>2017.0</td>\n",
       "      <td>2019.00</td>\n",
       "      <td>2020.0</td>\n",
       "    </tr>\n",
       "    <tr>\n",
       "      <th>price</th>\n",
       "      <td>99186.0</td>\n",
       "      <td>16805.451606</td>\n",
       "      <td>9866.768844</td>\n",
       "      <td>450.0</td>\n",
       "      <td>9999.0</td>\n",
       "      <td>14495.0</td>\n",
       "      <td>20870.00</td>\n",
       "      <td>159999.0</td>\n",
       "    </tr>\n",
       "    <tr>\n",
       "      <th>mileage</th>\n",
       "      <td>99186.0</td>\n",
       "      <td>23058.594126</td>\n",
       "      <td>21148.390071</td>\n",
       "      <td>1.0</td>\n",
       "      <td>7424.5</td>\n",
       "      <td>17460.0</td>\n",
       "      <td>32337.75</td>\n",
       "      <td>323000.0</td>\n",
       "    </tr>\n",
       "    <tr>\n",
       "      <th>tax</th>\n",
       "      <td>99186.0</td>\n",
       "      <td>120.298984</td>\n",
       "      <td>63.150672</td>\n",
       "      <td>0.0</td>\n",
       "      <td>125.0</td>\n",
       "      <td>145.0</td>\n",
       "      <td>145.00</td>\n",
       "      <td>580.0</td>\n",
       "    </tr>\n",
       "    <tr>\n",
       "      <th>mpg</th>\n",
       "      <td>99186.0</td>\n",
       "      <td>55.166950</td>\n",
       "      <td>16.138556</td>\n",
       "      <td>0.3</td>\n",
       "      <td>47.1</td>\n",
       "      <td>54.3</td>\n",
       "      <td>62.80</td>\n",
       "      <td>470.8</td>\n",
       "    </tr>\n",
       "    <tr>\n",
       "      <th>engineSize</th>\n",
       "      <td>99186.0</td>\n",
       "      <td>1.663283</td>\n",
       "      <td>0.557649</td>\n",
       "      <td>0.0</td>\n",
       "      <td>1.2</td>\n",
       "      <td>1.6</td>\n",
       "      <td>2.00</td>\n",
       "      <td>6.6</td>\n",
       "    </tr>\n",
       "  </tbody>\n",
       "</table>\n",
       "</div>"
      ],
      "text/plain": [
       "              count          mean           std     min     25%      50%  \\\n",
       "year        99186.0   2017.087291      2.119570  1970.0  2016.0   2017.0   \n",
       "price       99186.0  16805.451606   9866.768844   450.0  9999.0  14495.0   \n",
       "mileage     99186.0  23058.594126  21148.390071     1.0  7424.5  17460.0   \n",
       "tax         99186.0    120.298984     63.150672     0.0   125.0    145.0   \n",
       "mpg         99186.0     55.166950     16.138556     0.3    47.1     54.3   \n",
       "engineSize  99186.0      1.663283      0.557649     0.0     1.2      1.6   \n",
       "\n",
       "                 75%       max  \n",
       "year         2019.00    2020.0  \n",
       "price       20870.00  159999.0  \n",
       "mileage     32337.75  323000.0  \n",
       "tax           145.00     580.0  \n",
       "mpg            62.80     470.8  \n",
       "engineSize      2.00       6.6  "
      ]
     },
     "execution_count": 6,
     "metadata": {},
     "output_type": "execute_result"
    }
   ],
   "source": [
    "car_df.describe().T"
   ]
  },
  {
   "cell_type": "code",
   "execution_count": 7,
   "id": "2a6e1743",
   "metadata": {},
   "outputs": [
    {
     "data": {
      "text/plain": [
       "array([[<AxesSubplot:title={'center':'year'}>,\n",
       "        <AxesSubplot:title={'center':'price'}>],\n",
       "       [<AxesSubplot:title={'center':'mileage'}>,\n",
       "        <AxesSubplot:title={'center':'tax'}>],\n",
       "       [<AxesSubplot:title={'center':'mpg'}>,\n",
       "        <AxesSubplot:title={'center':'engineSize'}>]], dtype=object)"
      ]
     },
     "execution_count": 7,
     "metadata": {},
     "output_type": "execute_result"
    },
    {
     "data": {
      "image/png": "[encoded data removed]",
      "text/plain": [
       "<Figure size 1008x648 with 6 Axes>"
      ]
     },
     "metadata": {
      "needs_background": "light"
     },
     "output_type": "display_data"
    }
   ],
   "source": [
    "car_df.hist(bins=50, figsize=(14, 9))"
   ]
  },
  {
   "cell_type": "code",
   "execution_count": 8,
   "id": "343add96",
   "metadata": {},
   "outputs": [
    {
     "name": "stderr",
     "output_type": "stream",
     "text": [
      "C:\\Users\\Polat\\anaconda3\\lib\\site-packages\\seaborn\\_decorators.py:36: FutureWarning: Pass the following variable as a keyword arg: x. From version 0.12, the only valid positional argument will be `data`, and passing other arguments without an explicit keyword will result in an error or misinterpretation.\n",
      "  warnings.warn(\n",
      "C:\\Users\\Polat\\anaconda3\\lib\\site-packages\\seaborn\\_decorators.py:36: FutureWarning: Pass the following variable as a keyword arg: x. From version 0.12, the only valid positional argument will be `data`, and passing other arguments without an explicit keyword will result in an error or misinterpretation.\n",
      "  warnings.warn(\n",
      "C:\\Users\\Polat\\anaconda3\\lib\\site-packages\\seaborn\\_decorators.py:36: FutureWarning: Pass the following variable as a keyword arg: x. From version 0.12, the only valid positional argument will be `data`, and passing other arguments without an explicit keyword will result in an error or misinterpretation.\n",
      "  warnings.warn(\n"
     ]
    },
    {
     "data": {
      "image/png": "[encoded data removed]",
      "text/plain": [
       "<Figure size 1296x576 with 3 Axes>"
      ]
     },
     "metadata": {
      "needs_background": "light"
     },
     "output_type": "display_data"
    }
   ],
   "source": [
    "plt.figure(figsize=(18, 8))\n",
    "for i, col in enumerate(['transmission', 'fuelType', 'brand']):\n",
    "    plt.subplot(2, 2, i+1)\n",
    "    sns.countplot(car_df[col])"
   ]
  },
  {
   "cell_type": "code",
   "execution_count": 9,
   "id": "d6613890",
   "metadata": {},
   "outputs": [
    {
     "data": {
      "image/png": "[encoded data removed]",
      "text/plain": [
       "<Figure size 1296x576 with 3 Axes>"
      ]
     },
     "metadata": {
      "needs_background": "light"
     },
     "output_type": "display_data"
    }
   ],
   "source": [
    "plt.figure(figsize=(18, 8))\n",
    "for i, col in enumerate(['transmission', 'fuelType', 'brand']):\n",
    "    plt.subplot(2, 2, i+1)\n",
    "    sns.barplot(x=col, y=\"price\", data=car_df)"
   ]
  },
  {
   "cell_type": "code",
   "execution_count": 10,
   "id": "dc019e81",
   "metadata": {},
   "outputs": [
    {
     "data": {
      "text/plain": [
       "<AxesSubplot:>"
      ]
     },
     "execution_count": 10,
     "metadata": {},
     "output_type": "execute_result"
    },
    {
     "data": {
      "image/png": "[encoded data removed]",
      "text/plain": [
       "<Figure size 720x576 with 2 Axes>"
      ]
     },
     "metadata": {
      "needs_background": "light"
     },
     "output_type": "display_data"
    }
   ],
   "source": [
    "plt.figure(figsize=(10, 8))\n",
    "sns.heatmap(car_df.corr(), annot=True)"
   ]
  },
  {
   "cell_type": "code",
   "execution_count": 11,
   "id": "d83011b9",
   "metadata": {},
   "outputs": [
    {
     "data": {
      "text/html": [
       "<div>\n",
       "<style scoped>\n",
       "    .dataframe tbody tr th:only-of-type {\n",
       "        vertical-align: middle;\n",
       "    }\n",
       "\n",
       "    .dataframe tbody tr th {\n",
       "        vertical-align: top;\n",
       "    }\n",
       "\n",
       "    .dataframe thead th {\n",
       "        text-align: right;\n",
       "    }\n",
       "</style>\n",
       "<table border=\"1\" class=\"dataframe\">\n",
       "  <thead>\n",
       "    <tr style=\"text-align: right;\">\n",
       "      <th></th>\n",
       "      <th>year</th>\n",
       "      <th>price</th>\n",
       "      <th>mileage</th>\n",
       "      <th>tax</th>\n",
       "      <th>mpg</th>\n",
       "      <th>engineSize</th>\n",
       "    </tr>\n",
       "    <tr>\n",
       "      <th>brand</th>\n",
       "      <th></th>\n",
       "      <th></th>\n",
       "      <th></th>\n",
       "      <th></th>\n",
       "      <th></th>\n",
       "      <th></th>\n",
       "    </tr>\n",
       "  </thead>\n",
       "  <tbody>\n",
       "    <tr>\n",
       "      <th>Audi</th>\n",
       "      <td>2017.100675</td>\n",
       "      <td>22896.685039</td>\n",
       "      <td>24827.244001</td>\n",
       "      <td>126.011436</td>\n",
       "      <td>50.770022</td>\n",
       "      <td>1.930709</td>\n",
       "    </tr>\n",
       "    <tr>\n",
       "      <th>BMW</th>\n",
       "      <td>2017.078935</td>\n",
       "      <td>22733.408867</td>\n",
       "      <td>25496.986550</td>\n",
       "      <td>131.702068</td>\n",
       "      <td>56.399035</td>\n",
       "      <td>2.167767</td>\n",
       "    </tr>\n",
       "    <tr>\n",
       "      <th>Ford</th>\n",
       "      <td>2016.864173</td>\n",
       "      <td>12280.078435</td>\n",
       "      <td>23361.880149</td>\n",
       "      <td>113.329437</td>\n",
       "      <td>57.907832</td>\n",
       "      <td>1.350824</td>\n",
       "    </tr>\n",
       "    <tr>\n",
       "      <th>Hyundi</th>\n",
       "      <td>2017.107613</td>\n",
       "      <td>12750.131070</td>\n",
       "      <td>21486.049588</td>\n",
       "      <td>121.147119</td>\n",
       "      <td>53.827798</td>\n",
       "      <td>1.457922</td>\n",
       "    </tr>\n",
       "    <tr>\n",
       "      <th>Mercedes</th>\n",
       "      <td>2017.296288</td>\n",
       "      <td>24698.596920</td>\n",
       "      <td>21949.559037</td>\n",
       "      <td>129.972178</td>\n",
       "      <td>55.155843</td>\n",
       "      <td>2.071530</td>\n",
       "    </tr>\n",
       "    <tr>\n",
       "      <th>Skoda</th>\n",
       "      <td>2017.502314</td>\n",
       "      <td>14275.449338</td>\n",
       "      <td>20118.452050</td>\n",
       "      <td>117.407053</td>\n",
       "      <td>56.589165</td>\n",
       "      <td>1.433509</td>\n",
       "    </tr>\n",
       "    <tr>\n",
       "      <th>Toyota</th>\n",
       "      <td>2016.748145</td>\n",
       "      <td>12522.391066</td>\n",
       "      <td>22857.413921</td>\n",
       "      <td>94.697240</td>\n",
       "      <td>63.042223</td>\n",
       "      <td>1.471297</td>\n",
       "    </tr>\n",
       "    <tr>\n",
       "      <th>Vauxhall</th>\n",
       "      <td>2016.958553</td>\n",
       "      <td>10406.457893</td>\n",
       "      <td>23499.298636</td>\n",
       "      <td>128.766872</td>\n",
       "      <td>51.535007</td>\n",
       "      <td>1.417232</td>\n",
       "    </tr>\n",
       "    <tr>\n",
       "      <th>Volkswagen</th>\n",
       "      <td>2017.255789</td>\n",
       "      <td>16838.952365</td>\n",
       "      <td>22092.785644</td>\n",
       "      <td>112.744277</td>\n",
       "      <td>53.753355</td>\n",
       "      <td>1.600693</td>\n",
       "    </tr>\n",
       "  </tbody>\n",
       "</table>\n",
       "</div>"
      ],
      "text/plain": [
       "                   year         price       mileage         tax        mpg  \\\n",
       "brand                                                                        \n",
       "Audi        2017.100675  22896.685039  24827.244001  126.011436  50.770022   \n",
       "BMW         2017.078935  22733.408867  25496.986550  131.702068  56.399035   \n",
       "Ford        2016.864173  12280.078435  23361.880149  113.329437  57.907832   \n",
       "Hyundi      2017.107613  12750.131070  21486.049588  121.147119  53.827798   \n",
       "Mercedes    2017.296288  24698.596920  21949.559037  129.972178  55.155843   \n",
       "Skoda       2017.502314  14275.449338  20118.452050  117.407053  56.589165   \n",
       "Toyota      2016.748145  12522.391066  22857.413921   94.697240  63.042223   \n",
       "Vauxhall    2016.958553  10406.457893  23499.298636  128.766872  51.535007   \n",
       "Volkswagen  2017.255789  16838.952365  22092.785644  112.744277  53.753355   \n",
       "\n",
       "            engineSize  \n",
       "brand                   \n",
       "Audi          1.930709  \n",
       "BMW           2.167767  \n",
       "Ford          1.350824  \n",
       "Hyundi        1.457922  \n",
       "Mercedes      2.071530  \n",
       "Skoda         1.433509  \n",
       "Toyota        1.471297  \n",
       "Vauxhall      1.417232  \n",
       "Volkswagen    1.600693  "
      ]
     },
     "execution_count": 11,
     "metadata": {},
     "output_type": "execute_result"
    }
   ],
   "source": [
    "car_df.groupby([\"brand\"]).mean()"
   ]
  },
  {
   "cell_type": "code",
   "execution_count": 12,
   "id": "39876854",
   "metadata": {},
   "outputs": [
    {
     "data": {
      "text/html": [
       "<div>\n",
       "<style scoped>\n",
       "    .dataframe tbody tr th:only-of-type {\n",
       "        vertical-align: middle;\n",
       "    }\n",
       "\n",
       "    .dataframe tbody tr th {\n",
       "        vertical-align: top;\n",
       "    }\n",
       "\n",
       "    .dataframe thead th {\n",
       "        text-align: right;\n",
       "    }\n",
       "</style>\n",
       "<table border=\"1\" class=\"dataframe\">\n",
       "  <thead>\n",
       "    <tr style=\"text-align: right;\">\n",
       "      <th>transmission</th>\n",
       "      <th>Automatic</th>\n",
       "      <th>Manual</th>\n",
       "      <th>Other</th>\n",
       "      <th>Semi-Auto</th>\n",
       "      <th>All</th>\n",
       "    </tr>\n",
       "    <tr>\n",
       "      <th>brand</th>\n",
       "      <th></th>\n",
       "      <th></th>\n",
       "      <th></th>\n",
       "      <th></th>\n",
       "      <th></th>\n",
       "    </tr>\n",
       "  </thead>\n",
       "  <tbody>\n",
       "    <tr>\n",
       "      <th>Audi</th>\n",
       "      <td>28204.750000</td>\n",
       "      <td>16101.033417</td>\n",
       "      <td>NaN</td>\n",
       "      <td>27161.781676</td>\n",
       "      <td>22896.685039</td>\n",
       "    </tr>\n",
       "    <tr>\n",
       "      <th>BMW</th>\n",
       "      <td>22419.023969</td>\n",
       "      <td>14637.451128</td>\n",
       "      <td>NaN</td>\n",
       "      <td>27359.747964</td>\n",
       "      <td>22733.408867</td>\n",
       "    </tr>\n",
       "    <tr>\n",
       "      <th>Ford</th>\n",
       "      <td>15734.022794</td>\n",
       "      <td>11792.490043</td>\n",
       "      <td>NaN</td>\n",
       "      <td>14919.034039</td>\n",
       "      <td>12280.078435</td>\n",
       "    </tr>\n",
       "    <tr>\n",
       "      <th>Hyundi</th>\n",
       "      <td>16369.224215</td>\n",
       "      <td>11059.049571</td>\n",
       "      <td>14745.000000</td>\n",
       "      <td>19119.217993</td>\n",
       "      <td>12750.131070</td>\n",
       "    </tr>\n",
       "    <tr>\n",
       "      <th>Mercedes</th>\n",
       "      <td>24406.959585</td>\n",
       "      <td>15442.434903</td>\n",
       "      <td>15847.500000</td>\n",
       "      <td>26858.461157</td>\n",
       "      <td>24698.596920</td>\n",
       "    </tr>\n",
       "    <tr>\n",
       "      <th>Skoda</th>\n",
       "      <td>20609.333333</td>\n",
       "      <td>11658.523974</td>\n",
       "      <td>15999.000000</td>\n",
       "      <td>16285.112926</td>\n",
       "      <td>14275.449338</td>\n",
       "    </tr>\n",
       "    <tr>\n",
       "      <th>Toyota</th>\n",
       "      <td>16582.828754</td>\n",
       "      <td>9551.496864</td>\n",
       "      <td>12795.000000</td>\n",
       "      <td>14797.137795</td>\n",
       "      <td>12522.391066</td>\n",
       "    </tr>\n",
       "    <tr>\n",
       "      <th>Vauxhall</th>\n",
       "      <td>12116.201858</td>\n",
       "      <td>10158.988982</td>\n",
       "      <td>18664.333333</td>\n",
       "      <td>12375.419355</td>\n",
       "      <td>10406.457893</td>\n",
       "    </tr>\n",
       "    <tr>\n",
       "      <th>Volkswagen</th>\n",
       "      <td>22589.528061</td>\n",
       "      <td>13709.165552</td>\n",
       "      <td>NaN</td>\n",
       "      <td>21654.315873</td>\n",
       "      <td>16838.952365</td>\n",
       "    </tr>\n",
       "    <tr>\n",
       "      <th>All</th>\n",
       "      <td>21558.968886</td>\n",
       "      <td>12112.063991</td>\n",
       "      <td>16219.111111</td>\n",
       "      <td>24284.031309</td>\n",
       "      <td>16805.451606</td>\n",
       "    </tr>\n",
       "  </tbody>\n",
       "</table>\n",
       "</div>"
      ],
      "text/plain": [
       "transmission     Automatic        Manual         Other     Semi-Auto  \\\n",
       "brand                                                                  \n",
       "Audi          28204.750000  16101.033417           NaN  27161.781676   \n",
       "BMW           22419.023969  14637.451128           NaN  27359.747964   \n",
       "Ford          15734.022794  11792.490043           NaN  14919.034039   \n",
       "Hyundi        16369.224215  11059.049571  14745.000000  19119.217993   \n",
       "Mercedes      24406.959585  15442.434903  15847.500000  26858.461157   \n",
       "Skoda         20609.333333  11658.523974  15999.000000  16285.112926   \n",
       "Toyota        16582.828754   9551.496864  12795.000000  14797.137795   \n",
       "Vauxhall      12116.201858  10158.988982  18664.333333  12375.419355   \n",
       "Volkswagen    22589.528061  13709.165552           NaN  21654.315873   \n",
       "All           21558.968886  12112.063991  16219.111111  24284.031309   \n",
       "\n",
       "transmission           All  \n",
       "brand                       \n",
       "Audi          22896.685039  \n",
       "BMW           22733.408867  \n",
       "Ford          12280.078435  \n",
       "Hyundi        12750.131070  \n",
       "Mercedes      24698.596920  \n",
       "Skoda         14275.449338  \n",
       "Toyota        12522.391066  \n",
       "Vauxhall      10406.457893  \n",
       "Volkswagen    16838.952365  \n",
       "All           16805.451606  "
      ]
     },
     "execution_count": 12,
     "metadata": {},
     "output_type": "execute_result"
    }
   ],
   "source": [
    "car_df.pivot_table(values=\"price\", index=[\"brand\"], columns=\"transmission\", margins=True)"
   ]
  },
  {
   "cell_type": "code",
   "execution_count": 13,
   "id": "91635a96",
   "metadata": {},
   "outputs": [
    {
     "data": {
      "text/html": [
       "<div>\n",
       "<style scoped>\n",
       "    .dataframe tbody tr th:only-of-type {\n",
       "        vertical-align: middle;\n",
       "    }\n",
       "\n",
       "    .dataframe tbody tr th {\n",
       "        vertical-align: top;\n",
       "    }\n",
       "\n",
       "    .dataframe thead th {\n",
       "        text-align: right;\n",
       "    }\n",
       "</style>\n",
       "<table border=\"1\" class=\"dataframe\">\n",
       "  <thead>\n",
       "    <tr style=\"text-align: right;\">\n",
       "      <th>fuelType</th>\n",
       "      <th>Diesel</th>\n",
       "      <th>Electric</th>\n",
       "      <th>Hybrid</th>\n",
       "      <th>Other</th>\n",
       "      <th>Petrol</th>\n",
       "    </tr>\n",
       "    <tr>\n",
       "      <th>transmission</th>\n",
       "      <th></th>\n",
       "      <th></th>\n",
       "      <th></th>\n",
       "      <th></th>\n",
       "      <th></th>\n",
       "    </tr>\n",
       "  </thead>\n",
       "  <tbody>\n",
       "    <tr>\n",
       "      <th>Automatic</th>\n",
       "      <td>0.518374</td>\n",
       "      <td>0.000299</td>\n",
       "      <td>0.134729</td>\n",
       "      <td>0.010571</td>\n",
       "      <td>0.336026</td>\n",
       "    </tr>\n",
       "    <tr>\n",
       "      <th>Manual</th>\n",
       "      <td>0.316166</td>\n",
       "      <td>0.000000</td>\n",
       "      <td>0.000461</td>\n",
       "      <td>0.000585</td>\n",
       "      <td>0.682789</td>\n",
       "    </tr>\n",
       "    <tr>\n",
       "      <th>Other</th>\n",
       "      <td>0.222222</td>\n",
       "      <td>0.000000</td>\n",
       "      <td>0.222222</td>\n",
       "      <td>0.111111</td>\n",
       "      <td>0.444444</td>\n",
       "    </tr>\n",
       "    <tr>\n",
       "      <th>Semi-Auto</th>\n",
       "      <td>0.559333</td>\n",
       "      <td>0.000000</td>\n",
       "      <td>0.015346</td>\n",
       "      <td>0.000044</td>\n",
       "      <td>0.425277</td>\n",
       "    </tr>\n",
       "    <tr>\n",
       "      <th>All</th>\n",
       "      <td>0.412639</td>\n",
       "      <td>0.000060</td>\n",
       "      <td>0.031033</td>\n",
       "      <td>0.002490</td>\n",
       "      <td>0.553778</td>\n",
       "    </tr>\n",
       "  </tbody>\n",
       "</table>\n",
       "</div>"
      ],
      "text/plain": [
       "fuelType        Diesel  Electric    Hybrid     Other    Petrol\n",
       "transmission                                                  \n",
       "Automatic     0.518374  0.000299  0.134729  0.010571  0.336026\n",
       "Manual        0.316166  0.000000  0.000461  0.000585  0.682789\n",
       "Other         0.222222  0.000000  0.222222  0.111111  0.444444\n",
       "Semi-Auto     0.559333  0.000000  0.015346  0.000044  0.425277\n",
       "All           0.412639  0.000060  0.031033  0.002490  0.553778"
      ]
     },
     "execution_count": 13,
     "metadata": {},
     "output_type": "execute_result"
    }
   ],
   "source": [
    "pd.crosstab(index=car_df.transmission, columns=car_df.fuelType, normalize=\"index\", margins=True)"
   ]
  },
  {
   "cell_type": "markdown",
   "id": "e9aa0209",
   "metadata": {},
   "source": [
    "# Feature engineering"
   ]
  },
  {
   "cell_type": "code",
   "execution_count": 14,
   "id": "f018e8e9",
   "metadata": {},
   "outputs": [],
   "source": [
    "# drop outliers\n",
    "car_df = car_df[car_df[\"price\"] < 60000]"
   ]
  },
  {
   "cell_type": "code",
   "execution_count": 15,
   "id": "36138600",
   "metadata": {},
   "outputs": [
    {
     "name": "stderr",
     "output_type": "stream",
     "text": [
      "C:\\Users\\Polat\\anaconda3\\lib\\site-packages\\seaborn\\_decorators.py:36: FutureWarning: Pass the following variable as a keyword arg: x. From version 0.12, the only valid positional argument will be `data`, and passing other arguments without an explicit keyword will result in an error or misinterpretation.\n",
      "  warnings.warn(\n"
     ]
    },
    {
     "data": {
      "text/plain": [
       "<AxesSubplot:xlabel='price'>"
      ]
     },
     "execution_count": 15,
     "metadata": {},
     "output_type": "execute_result"
    },
    {
     "data": {
      "image/png": "[encoded data removed]",
      "text/plain": [
       "<Figure size 432x288 with 1 Axes>"
      ]
     },
     "metadata": {
      "needs_background": "light"
     },
     "output_type": "display_data"
    }
   ],
   "source": [
    "sns.boxplot(car_df[\"price\"])"
   ]
  },
  {
   "cell_type": "code",
   "execution_count": 16,
   "id": "50167b6e",
   "metadata": {},
   "outputs": [],
   "source": [
    "# drop year less than 2005\n",
    "car_df = car_df[2001<=car_df[\"year\"]]"
   ]
  },
  {
   "cell_type": "code",
   "execution_count": 17,
   "id": "b7b7d937",
   "metadata": {},
   "outputs": [],
   "source": [
    "# age of car\n",
    "car_df[\"age\"] = 2021 - car_df[\"year\"]"
   ]
  },
  {
   "cell_type": "code",
   "execution_count": 18,
   "id": "2bf63a2b",
   "metadata": {},
   "outputs": [
    {
     "data": {
      "text/plain": [
       "<AxesSubplot:xlabel='age', ylabel='price'>"
      ]
     },
     "execution_count": 18,
     "metadata": {},
     "output_type": "execute_result"
    },
    {
     "data": {
      "image/png": "[encoded data removed]",
      "text/plain": [
       "<Figure size 432x288 with 1 Axes>"
      ]
     },
     "metadata": {
      "needs_background": "light"
     },
     "output_type": "display_data"
    }
   ],
   "source": [
    "sns.barplot(x=\"age\", y=\"price\", data=car_df)"
   ]
  },
  {
   "cell_type": "code",
   "execution_count": 19,
   "id": "a34dabfe",
   "metadata": {},
   "outputs": [],
   "source": [
    "# normalize mileage \n",
    "car_df[\"mileage\"] = np.log10(car_df[\"mileage\"])"
   ]
  },
  {
   "cell_type": "code",
   "execution_count": 20,
   "id": "92642589",
   "metadata": {},
   "outputs": [
    {
     "data": {
      "text/plain": [
       "<AxesSubplot:xlabel='mileage', ylabel='Count'>"
      ]
     },
     "execution_count": 20,
     "metadata": {},
     "output_type": "execute_result"
    },
    {
     "data": {
      "image/png": "[encoded data removed]",
      "text/plain": [
       "<Figure size 432x288 with 1 Axes>"
      ]
     },
     "metadata": {
      "needs_background": "light"
     },
     "output_type": "display_data"
    }
   ],
   "source": [
    "sns.histplot(car_df[\"mileage\"])"
   ]
  },
  {
   "cell_type": "code",
   "execution_count": 21,
   "id": "5f5532b3",
   "metadata": {},
   "outputs": [],
   "source": [
    "# brands sorted by mean prices\n",
    "brand_dict = {'Mercedes': 0, 'Audi': 1, 'BMW': 2, 'Volkswagen': 3, 'Skoda': 4,\n",
    "                'Hyundi': 5, 'Toyota': 6, 'Ford': 7, 'Vauxhall': 8}\n",
    "                \n",
    "car_df[\"brand_rank\"] = car_df[\"brand\"].map(brand_dict)"
   ]
  },
  {
   "cell_type": "code",
   "execution_count": 22,
   "id": "f2c91a73",
   "metadata": {},
   "outputs": [
    {
     "name": "stderr",
     "output_type": "stream",
     "text": [
      "C:\\Users\\Polat\\anaconda3\\lib\\site-packages\\seaborn\\_decorators.py:36: FutureWarning: Pass the following variables as keyword args: x, y. From version 0.12, the only valid positional argument will be `data`, and passing other arguments without an explicit keyword will result in an error or misinterpretation.\n",
      "  warnings.warn(\n"
     ]
    },
    {
     "data": {
      "text/plain": [
       "<AxesSubplot:xlabel='brand_rank', ylabel='price'>"
      ]
     },
     "execution_count": 22,
     "metadata": {},
     "output_type": "execute_result"
    },
    {
     "data": {
      "image/png": "[encoded data removed]",
      "text/plain": [
       "<Figure size 432x288 with 1 Axes>"
      ]
     },
     "metadata": {
      "needs_background": "light"
     },
     "output_type": "display_data"
    }
   ],
   "source": [
    "sns.barplot(car_df[\"brand_rank\"], car_df[\"price\"]) "
   ]
  },
  {
   "cell_type": "code",
   "execution_count": 23,
   "id": "02235abd",
   "metadata": {},
   "outputs": [],
   "source": [
    "# transmission type is 'Manual'\n",
    "car_df[\"transmission_Manual\"] = [1 if x==\"Manual\" else 0 for x in car_df[\"transmission\"]]"
   ]
  },
  {
   "cell_type": "code",
   "execution_count": 24,
   "id": "fc0ca821",
   "metadata": {},
   "outputs": [
    {
     "name": "stderr",
     "output_type": "stream",
     "text": [
      "C:\\Users\\Polat\\anaconda3\\lib\\site-packages\\seaborn\\_decorators.py:36: FutureWarning: Pass the following variables as keyword args: x, y. From version 0.12, the only valid positional argument will be `data`, and passing other arguments without an explicit keyword will result in an error or misinterpretation.\n",
      "  warnings.warn(\n"
     ]
    },
    {
     "data": {
      "text/plain": [
       "<AxesSubplot:xlabel='transmission_Manual', ylabel='price'>"
      ]
     },
     "execution_count": 24,
     "metadata": {},
     "output_type": "execute_result"
    },
    {
     "data": {
      "image/png": "[encoded data removed]",
      "text/plain": [
       "<Figure size 432x288 with 1 Axes>"
      ]
     },
     "metadata": {
      "needs_background": "light"
     },
     "output_type": "display_data"
    }
   ],
   "source": [
    "sns.barplot(car_df[\"transmission_Manual\"], car_df[\"price\"]) "
   ]
  },
  {
   "cell_type": "code",
   "execution_count": 25,
   "id": "9cf570fc",
   "metadata": {},
   "outputs": [],
   "source": [
    "# save final data\n",
    "car_df.to_csv(\"eda_data.csv\", index=False)"
   ]
  },
  {
   "cell_type": "code",
   "execution_count": null,
   "id": "1bda6896",
   "metadata": {},
   "outputs": [],
   "source": []
  }
 ],
 "metadata": {
  "kernelspec": {
   "display_name": "Python 3 (ipykernel)",
   "language": "python",
   "name": "python3"
  },
  "language_info": {
   "codemirror_mode": {
    "name": "ipython",
    "version": 3
   },
   "file_extension": ".py",
   "mimetype": "text/x-python",
   "name": "python",
   "nbconvert_exporter": "python",
   "pygments_lexer": "ipython3",
   "version": "3.9.12"
  }
 },
 "nbformat": 4,
 "nbformat_minor": 5
}
